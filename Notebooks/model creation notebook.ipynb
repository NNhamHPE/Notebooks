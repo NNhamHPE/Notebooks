{
 "cells": [
  {
   "cell_type": "markdown",
   "id": "5ea6a9c9",
   "metadata": {},
   "source": [
    "# Importing Modules"
   ]
  },
  {
   "cell_type": "code",
   "execution_count": null,
   "id": "ec430ce0",
   "metadata": {},
   "outputs": [],
   "source": [
    "import time\n",
    "start = time.time()"
   ]
  },
  {
   "cell_type": "markdown",
   "id": "e5237fed",
   "metadata": {},
   "source": [
    "Import the time module and create a variable named \"start\". The start variable will be used later to track the runtime of operations."
   ]
  },
  {
   "cell_type": "code",
   "execution_count": null,
   "id": "20b4d0f5",
   "metadata": {},
   "outputs": [],
   "source": [
    "curTime = datetime.datetime.now().strftime(\"%H:%M:%S\")\n",
    "print(\"Start Time: \", curTime)"
   ]
  },
  {
   "cell_type": "markdown",
   "id": "40ca24f7",
   "metadata": {},
   "source": [
    "Use datetime to get the current time, used to display when the script has started running. Useful for calculating when an operation will end."
   ]
  },
  {
   "cell_type": "code",
   "execution_count": null,
   "id": "298b5aaa",
   "metadata": {},
   "outputs": [],
   "source": [
    "import pandas as pd\n",
    "from sklearn.tree import RandomForestClassifier\n",
    "from sklearn.model_selection import RandomizedSearchCV, GridSearchCV\n",
    "import joblib"
   ]
  },
  {
   "cell_type": "markdown",
   "id": "8ffd1ed0",
   "metadata": {},
   "source": [
    "Import the remaining modules. The modules are used to the following:<br>\n",
    "-Pandas: Used for the dataframe datatype which is easy to operate on as well as convert to other files. It is also compatable with fitting for many ML models.<br>\n",
    "-RandomForestClassifier: The chosen ML model being used to predict the start dates of new reqs.<br>\n",
    "-RandomizedSearchCV: Tries to find the best parameters for the ML model by testing models at random. Quicker than GridSearchCV but prone to inconsistent values and less accurate models.<br>\n",
    "-GridSearchCV: Finds the best parameters for the ML model by testing all possible models based on the given parameters to test. \n",
    "-Joblib: Used to export the ML model. "
   ]
  },
  {
   "cell_type": "markdown",
   "id": "0d78fe43",
   "metadata": {},
   "source": [
    "# Tuning"
   ]
  },
  {
   "cell_type": "code",
   "execution_count": null,
   "id": "eab1d220",
   "metadata": {},
   "outputs": [],
   "source": [
    "runTimeBool = True"
   ]
  },
  {
   "cell_type": "markdown",
   "id": "de208dc0",
   "metadata": {},
   "source": [
    "When set to True the runtimes at certain checkpoints will be printed to console."
   ]
  },
  {
   "cell_type": "code",
   "execution_count": null,
   "id": "a382ccf4",
   "metadata": {},
   "outputs": [],
   "source": [
    "ridParams = {\n",
    "    \"random_state\": [8],\n",
    "    \"max_depth\": [20, 50, 100, None],\n",
    "    \"criterion\": [\"gini\", \"entropy\", \"log_loss\"],\n",
    "    \"min_samples_leaf\": [1, 10, 100, 1000],\n",
    "    \"min_weight_fraction_leaf\": [0.0, 0.05, 0.1, 0.2],\n",
    "    \"max_features\": [\"log2\", \"sqrt\", None],\n",
    "    \"max_leaf_nodes\": [None, 20, 50, 100]\n",
    "              }"
   ]
  },
  {
   "cell_type": "markdown",
   "id": "b91bbd88",
   "metadata": {},
   "source": [
    "A dictionary with the parameters for the DecisionTreeRegressor. Each determines the following:<br>\n",
    "-random_state: Essentially a seed for the model. Rather than making a random decision when running into a decision with two equally viable options, it will make the same decision every time. Can be set to anything, 8 was chosen at random.<br>\n",
    "-max_depth: The maximum depth of the decision tree/The maximum number of decisions that the tree can make for a single row.<br>\n",
    "-criterion: The function to measure the quality of a split.<br>\n",
    "-min_samples_leaf: The minimum number of samples that a node needs to split off.<br>\n",
    "-min_weight_fraction_leaf: The minimum weight fraction of the instances required to be at a leaf node.<br>\n",
    "-max_features: The number of features to consider when looking for the best split.<br>\n",
    "-max_leaf_nodes: The total number of unique combinations of the predictors.<br>\n",
    "<br>\n",
    "Culling unoptimal parameters and adding new parameters to test is encouraged."
   ]
  },
  {
   "cell_type": "code",
   "execution_count": null,
   "id": "2962d2c1",
   "metadata": {},
   "outputs": [],
   "source": [
    "totModels = 1\n",
    "for index, (key, value) in enumerate(gridParams.items()):\n",
    "    if index == 0:\n",
    "        totMpdels = len(value)\n",
    "    else:\n",
    "        totModels = totModels*len(value)\n",
    "        \n",
    "print(f\"Total models to explore: {totModels}\")"
   ]
  },
  {
   "cell_type": "markdown",
   "id": "857f26f8",
   "metadata": {},
   "source": [
    "Calculate the total number of models that will need to be tested by GridSearchCV based on the parameters given. Print this to the console."
   ]
  },
  {
   "cell_type": "code",
   "execution_count": null,
   "id": "d790a637",
   "metadata": {},
   "outputs": [],
   "source": [
    "xaxis = pd.read_csv(\"xaxis.csv\")\n",
    "yaxis = pd.read_csv(\"yaxis.csv\")"
   ]
  },
  {
   "cell_type": "markdown",
   "id": "b9daf314",
   "metadata": {},
   "source": [
    "Create the xaxis and yaxis dataframes from csv files output during preprocessing."
   ]
  },
  {
   "cell_type": "code",
   "execution_count": null,
   "id": "77034aaf",
   "metadata": {},
   "outputs": [],
   "source": [
    "gridTest = GridSearchCV(estimator=DecisionTreeRegressor(), param_grid = gridParams, cv = 2, #n_jobs =-1s\n",
    ")\n",
    "gridTest.fit(xaxis, yaxis)"
   ]
  },
  {
   "cell_type": "markdown",
   "id": "61529089",
   "metadata": {},
   "source": [
    "Create a GridSearchCV object loaded with the parameters established in the gridParams dictionary. If n_jobs is set to -1, all processing cores will be used for the operation. Then, fit the object using the xaxis and yaxis dataframes."
   ]
  },
  {
   "cell_type": "code",
   "execution_count": null,
   "id": "092db705",
   "metadata": {},
   "outputs": [],
   "source": [
    "joblib.dump(gridTest.best_estimator_, \"tuned decision tree.pkl\")\n",
    "if runTimeBool == True:\n",
    "    checkpoint = round(time.time()-start, 2)\n",
    "    print(f\"Export PKL File: {checkpoint}\\n\")"
   ]
  },
  {
   "cell_type": "markdown",
   "id": "d26c14ac",
   "metadata": {},
   "source": [
    "Use joblib to save the model to a pkl file."
   ]
  },
  {
   "cell_type": "code",
   "execution_count": null,
   "id": "82f2afd4",
   "metadata": {},
   "outputs": [],
   "source": [
    "if printGridTest == True:\n",
    "    print(f\"\\n ======================\")\n",
    "    print(\"\\n Best params: \", gridTest.best_params_)\n",
    "    print(\"\\n Best score: \", gridTest.best_score_)\n",
    "    print(\"\\n========================\\n\")"
   ]
  },
  {
   "cell_type": "markdown",
   "id": "4a94da2e",
   "metadata": {},
   "source": [
    "Print the best parameters and it's accuracy to console."
   ]
  },
  {
   "cell_type": "code",
   "execution_count": null,
   "id": "d1f275cd",
   "metadata": {},
   "outputs": [],
   "source": [
    "if runTimeBool == True:\n",
    "    checkpoint = round(time.time()-start, 2)\n",
    "    print(f\"Finish Runtime: {checkpoint/60} minutes, {checkpoint%60} seconds\")"
   ]
  },
  {
   "cell_type": "markdown",
   "id": "b558eace",
   "metadata": {},
   "source": [
    "Print finish runtime to console, this one in particular is converted to minutes and seconds rather than just seconds because the operation can take a long time especially when there are many models for GridSearchCV to explore."
   ]
  }
 ],
 "metadata": {
  "kernelspec": {
   "display_name": "Python 3 (ipykernel)",
   "language": "python",
   "name": "python3"
  },
  "language_info": {
   "codemirror_mode": {
    "name": "ipython",
    "version": 3
   },
   "file_extension": ".py",
   "mimetype": "text/x-python",
   "name": "python",
   "nbconvert_exporter": "python",
   "pygments_lexer": "ipython3",
   "version": "3.11.4"
  }
 },
 "nbformat": 4,
 "nbformat_minor": 5
}

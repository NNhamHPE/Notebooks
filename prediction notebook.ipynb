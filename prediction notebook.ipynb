{
 "cells": [
  {
   "cell_type": "markdown",
   "id": "d6320137",
   "metadata": {},
   "source": [
    "# Import Modules"
   ]
  },
  {
   "cell_type": "code",
   "execution_count": null,
   "id": "ce76f8d5",
   "metadata": {},
   "outputs": [],
   "source": [
    "import joblib\n",
    "import pandas as pd\n",
    "from sklearn.tree import DecisionTreeClassifier\n",
    "from xgboost.sklearn import XGBClassifier\n",
    "from sklearn.ensemble import RandomForestClassifier"
   ]
  },
  {
   "cell_type": "markdown",
   "id": "4598ef0c",
   "metadata": {},
   "source": [
    "Import the modules. The modules are used for the following:\n",
    "-Joblib: Import the existing module stored in the pkl file created and saved in the model creation step.<br>\n",
    "-Pandas: Used for the dataframe datatype which is easy to operate on as well as convert to other files. It is also compatable with fitting for many ML models.<br>\n",
    "-DecisionTreeClassifier: One of the possible ML model being used to predict the start dates of new reqs. May work better than RandomForestClassifier with more data. <br>\n",
    "-XGBClassifier: Another possible ML model to use. <br>\n",
    "-RandomForestClassifier: The current ML model being used to predict the start date of new reqs."
   ]
  },
  {
   "cell_type": "code",
   "execution_count": null,
   "id": "795b27ed",
   "metadata": {},
   "outputs": [],
   "source": [
    "model = joblib.load(\"tuned decision tree.pkl\")"
   ]
  },
  {
   "cell_type": "markdown",
   "id": "eadc1a7c",
   "metadata": {},
   "source": [
    "Import the tuned ML model from the pkl file. Currently not being used as the default parameters that give the most freedom to the model produce the best results, however the infrastructure for predicting with a tuned model is in place. "
   ]
  },
  {
   "cell_type": "code",
   "execution_count": null,
   "id": "6c6d0d0c",
   "metadata": {},
   "outputs": [],
   "source": [
    "xaxis = pd.read_csv(\"xaxis.csv\")\n",
    "yaxis = pd.read_csv(\"yaxis.csv\")\n",
    "xtest = pd.read_csv(\"xtest.csv\")\n",
    "ytest = pd.read_csv(\"ytest.csv\")"
   ]
  },
  {
   "cell_type": "markdown",
   "id": "3ed6ea89",
   "metadata": {},
   "source": [
    "Create dataframe variables by reading the csv files created in the preprocessing stage."
   ]
  },
  {
   "cell_type": "code",
   "execution_count": null,
   "id": "7f877804",
   "metadata": {},
   "outputs": [],
   "source": [
    "option = 3\n",
    "if option == 0:\n",
    "    model = DecisionTreeClassifier(random_state = 8)\n",
    "    model.fit(xaxis, yaxis)\n",
    "if option == 1:\n",
    "    model = model\n",
    "if option == 2:\n",
    "    model = XGBClassifier()\n",
    "    model.fit(xaxis, yaxis)\n",
    "if option == 3:\n",
    "    model = RandomForestClassifier(random_state=8)\n",
    "    model.fit(xaxis, yaxis.values.ravel())"
   ]
  },
  {
   "cell_type": "markdown",
   "id": "5027ff6b",
   "metadata": {},
   "source": [
    "Options for different models, current model being used is RandomForestClassifier. Can be switched at any time."
   ]
  },
  {
   "cell_type": "code",
   "execution_count": null,
   "id": "57947e82",
   "metadata": {},
   "outputs": [],
   "source": [
    "reqidcol = pd.DataFrame(xtest[\"ReqMasterId\"])"
   ]
  },
  {
   "cell_type": "markdown",
   "id": "8e161f9e",
   "metadata": {},
   "source": [
    "Store the ReqMasterIds in their own dataframe."
   ]
  },
  {
   "cell_type": "code",
   "execution_count": null,
   "id": "ac5f1169",
   "metadata": {},
   "outputs": [],
   "source": [
    "prediction = model.predict(xtest)"
   ]
  },
  {
   "cell_type": "markdown",
   "id": "2c7b9f7b",
   "metadata": {},
   "source": [
    "Have the model predict the age for the rows in xtest."
   ]
  },
  {
   "cell_type": "code",
   "execution_count": null,
   "id": "2e93f429",
   "metadata": {},
   "outputs": [],
   "source": [
    "predictionpd = pd.DataFrame(prediction, columns=[\"ProjectedDays\"])"
   ]
  },
  {
   "cell_type": "markdown",
   "id": "2f34e89d",
   "metadata": {},
   "source": [
    "Convert the list of predicted ages to a dataframe."
   ]
  },
  {
   "cell_type": "code",
   "execution_count": null,
   "id": "4cbcabf1",
   "metadata": {},
   "outputs": [],
   "source": [
    "predictionpd = pd.concat([reqidcol, predictionpd], axis=1)\n",
    "predictionpd.to_csv(\"tuned results.csv\", index=False)"
   ]
  },
  {
   "cell_type": "markdown",
   "id": "6d84a0e9",
   "metadata": {},
   "source": [
    "Combine the dataframe with the ReqMasterIds and the dataframe with the predicted ages into one dataframe and export it. "
   ]
  }
 ],
 "metadata": {
  "kernelspec": {
   "display_name": "Python 3 (ipykernel)",
   "language": "python",
   "name": "python3"
  },
  "language_info": {
   "codemirror_mode": {
    "name": "ipython",
    "version": 3
   },
   "file_extension": ".py",
   "mimetype": "text/x-python",
   "name": "python",
   "nbconvert_exporter": "python",
   "pygments_lexer": "ipython3",
   "version": "3.11.4"
  }
 },
 "nbformat": 4,
 "nbformat_minor": 5
}
